{
 "cells": [
  {
   "cell_type": "code",
   "execution_count": 1,
   "id": "a80cc89d",
   "metadata": {},
   "outputs": [],
   "source": [
    "import qiskit"
   ]
  },
  {
   "cell_type": "code",
   "execution_count": 2,
   "id": "8ee5df49",
   "metadata": {},
   "outputs": [
    {
     "name": "stderr",
     "output_type": "stream",
     "text": [
      "D:\\anaconda\\lib\\site-packages\\qiskit\\aqua\\__init__.py:86: DeprecationWarning: The package qiskit.aqua is deprecated. It was moved/refactored to qiskit-terra For more information see <https://github.com/Qiskit/qiskit-aqua/blob/main/README.md#migration-guide>\n",
      "  warn_package('aqua', 'qiskit-terra')\n"
     ]
    },
    {
     "data": {
      "text/plain": [
       "{'qiskit-terra': '0.18.1', 'qiskit-aer': '0.8.2', 'qiskit-ignis': '0.6.0', 'qiskit-ibmq-provider': '0.16.0', 'qiskit-aqua': '0.9.4', 'qiskit': '0.29.0', 'qiskit-nature': None, 'qiskit-finance': None, 'qiskit-optimization': None, 'qiskit-machine-learning': None}"
      ]
     },
     "execution_count": 2,
     "metadata": {},
     "output_type": "execute_result"
    }
   ],
   "source": [
    "qiskit.__qiskit_version__"
   ]
  },
  {
   "cell_type": "code",
   "execution_count": 3,
   "id": "54d1f4fe",
   "metadata": {},
   "outputs": [],
   "source": [
    "#Importing necessary packages from qiskit, numpy, math and matplotlib\n",
    "from qiskit import ClassicalRegister, QuantumRegister, QuantumCircuit, Aer, execute\n",
    "import numpy as np \n",
    "import math as m\n",
    "import matplotlib\n",
    "import matplotlib.pyplot as plt\n",
    "%matplotlib inline\n",
    "from qiskit.tools.visualization import plot_histogram\n",
    "\n",
    "#Statevector simulator which is the main backend used\n",
    "S_simulator = Aer.backends(name='statevector_simulator')[0] "
   ]
  },
  {
   "cell_type": "code",
   "execution_count": 4,
   "id": "7294c02a",
   "metadata": {},
   "outputs": [],
   "source": [
    "#***************************************************************************************\n",
    "#  -The functions used in this code were mainly developed by Koch, et al. with minor \n",
    "#   adjustments and changes to fit the model and matrix derivations done in Chapter 3 - \n",
    "#\n",
    "#    Title: Fundamentals In Quantum Algorithms: A Tutorial Series Using Qiskit Continued\n",
    "#    Author: Koch, Daniel and Patel, Saahil and Wessing, Laura and Alsing, Paul M.\n",
    "#    Date: 2020\n",
    "#    Availability: 10.48550/ARXIV.2008.10647\n",
    "#\n",
    "#***************************************************************************************"
   ]
  },
  {
   "cell_type": "code",
   "execution_count": 5,
   "id": "2cf2a556",
   "metadata": {},
   "outputs": [],
   "source": [
    "def Ub_Mixer(qc, q, beta, Vert):\n",
    "    #Input: qc (QuantumCircuit) q (QuantumRegister) beta (hyperparameter) Vert (counting array\n",
    "    #       with external magnetic field values)\n",
    "    #Applies the quantum logic gates for a U(B,beta) operation using Rx, Ry, and CNOT gates\n",
    "    qc.barrier()\n",
    "    for v in np.arange( len(Vert) ):\n",
    "        qc.rx( -2*beta, q[int(Vert[v][0])] ) #Rx gates\n",
    "    #CNOT gates for entanglement\n",
    "    qc.cx( q[0], q[1] )    \n",
    "    qc.cx( q[2], q[0] )\n",
    "    for v2 in np.arange( len(Vert) ):\n",
    "        qc.ry( -2*beta, q[int(Vert[v2][0])] ) #Ry gates"
   ]
  },
  {
   "cell_type": "code",
   "execution_count": 6,
   "id": "9982f4e2",
   "metadata": {},
   "outputs": [],
   "source": [
    "def Uc_Ising(qc, q, gamma, Vert, Edge):\n",
    "    #Input: qc (QuantumCircuit) q (QuantumRegister) gamma (hyperparameter) Vert (counting array \n",
    "    #       with h-values) Edge (array describing qubit/spin relations)\n",
    "    #Applies the quantum logic gates for a U(C,gamma) operation using Rz and CNOT gates\n",
    "    J = [1.5,-2.25,1.5] #Values for J \n",
    "    for e in np.arange( len(Edge) ): # Z_i Z_j\n",
    "        qc.cx( q[int(Edge[e][0])], q[int(Edge[e][1])] ) #Ancilla CNOT gates with Rz gate\n",
    "        qc.rz(-2*gamma*J[e], q[int(Edge[e][1])] ) #Rz gate encoding coupling coefficient (J) values\n",
    "        qc.cx( q[int(Edge[e][0])], q[int(Edge[e][1])] )\n",
    "    qc.barrier()\n",
    "    for v in np.arange( len(Vert) ): # Z_gamma\n",
    "        qc.rz(-2*gamma*(Vert[v][1]), q[int(Vert[v][0])] ) #Rz gate encoding external magnetic field (h) effects"
   ]
  },
  {
   "cell_type": "code",
   "execution_count": 7,
   "id": "24d2aa3c",
   "metadata": {},
   "outputs": [],
   "source": [
    "def Ising_Circuit(qc, q, V, E, beta, gamma, **kwargs):\n",
    "    #Input: qc (QuantumCircuit) q (QuantumRegister) V (Vert array) E (Edge array) beta (hyperparameter)\n",
    "    #       gamma (hyperparameter)\n",
    "    #Forms Quantum Circuit for given geometry parameters in V, E and phase parameters in beta, gamma\n",
    "    Uc_Ising(qc,q,gamma,V,E) \n",
    "    Ub_Mixer(qc,q,beta,V)"
   ]
  },
  {
   "cell_type": "code",
   "execution_count": 8,
   "id": "36a9b3ee",
   "metadata": {},
   "outputs": [],
   "source": [
    "def Binary(N, total, LSB):\n",
    "    #Input: N (integer) total (integer) LSB (string -least significant bit)\n",
    "    #Gives base-2 binary equivalent of N with LSB notation. \n",
    "    #Used for listing down possible states for N qubits\n",
    "    qubits = int(m.log(total,2))\n",
    "    b_num = np.zeros(qubits)\n",
    "    for i in np.arange(qubits):\n",
    "        if( N/((2)**(qubits-i-1)) >= 1 ):\n",
    "            if(LSB=='R'):\n",
    "                b_num[i] = 1\n",
    "            if(LSB=='L'):\n",
    "                b_num[int(qubits-(i+1))] = 1\n",
    "            N = N - 2**(qubits-i-1)\n",
    "    B = []\n",
    "    for j in np.arange(len(b_num)):\n",
    "        B.append(int(b_num[j]))\n",
    "    return B"
   ]
  },
  {
   "cell_type": "code",
   "execution_count": 9,
   "id": "166a83ec",
   "metadata": {},
   "outputs": [],
   "source": [
    "def Ising_Energy(V, E, **kwargs):\n",
    "    #Input: V (Vert array) E (Edge array) \n",
    "    #Manually solves for the energy of each configuration based on the set Hamiltonian\n",
    "    #This is solved for comparative purposes\n",
    "    Energies = []\n",
    "    States = []\n",
    "    J = [1.5,-2.25,1.5] #coupling coefficient values\n",
    "    for s in np.arange( 2**len(V) ):\n",
    "        B = Binary(int(s),2**len(V),'L') \n",
    "        B2 = []\n",
    "        for i in np.arange(len(B)):\n",
    "            if( B[i] == 0 ):\n",
    "                B2.append(1)  #when binary state is 0, Ising value=1\n",
    "            else:\n",
    "                B2.append(-1) #Ising value = -1 otherwise\n",
    "        state = ''\n",
    "        energy = 0\n",
    "        for s2 in np.arange(len(B)):\n",
    "            state = state+str(B[s2])\n",
    "            energy = energy - V[s2][1]*B2[s2] #2nd term of cost function\n",
    "        States.append(state) #Lists down states \n",
    "        for j in np.arange( len(E) ):\n",
    "            energy = energy - J[j] * B2[int(E[j][0])] * B2[int(E[j][1])]\n",
    "        Energies.append(energy) #Lists down corresponding energy per state\n",
    "    return Energies,States "
   ]
  },
  {
   "cell_type": "code",
   "execution_count": 10,
   "id": "65d9e16e",
   "metadata": {},
   "outputs": [],
   "source": [
    "def Ising_Gradient_Descent(qc, q, Circ, V, E, beta, gamma, epsilon, En, step):\n",
    "    #Input: qc (QuantumCircuit) q (QuantumRegister) Circ (Ising_Circuit function) V (Vert array)\n",
    "    # E (Edgearray) beta (hyperparameter) gamma (hyperparameter) epsilon (optimization parameter)\n",
    "    # En (Energies) step (step size)\n",
    "    # Uses Gradient Descent optimization to determine the next values for gamma and beta \n",
    "    params = [ [beta+epsilon,gamma],[beta-epsilon,gamma],[beta,gamma+epsilon],[beta,gamma-epsilon] ]\n",
    "    ev = []\n",
    "    for i in np.arange( 4 ):\n",
    "        q = QuantumRegister(len(V))\n",
    "        qc= QuantumCircuit(q)\n",
    "        for hh in np.arange(len(V)):\n",
    "            qc.h( q[int(hh)] )\n",
    "        Circ( qc, q, V, E, params[i][0], params[i][1])\n",
    "        ev.append( E_Expectation_Value( qc, En ) )\n",
    "    beta_next = beta - ( ev[0] - ev[1] )/( 2.0*epsilon ) * step\n",
    "    gamma_next = gamma - ( ev[2] - ev[3] )/( 2.0*epsilon ) * step\n",
    "    return beta_next, gamma_next"
   ]
  },
  {
   "cell_type": "code",
   "execution_count": 11,
   "id": "828162b8",
   "metadata": {},
   "outputs": [],
   "source": [
    "def E_Expectation_Value( qc, Energies ):\n",
    "    #Input: qc (QuantumCircuit) Energies (array)\n",
    "    #Gets the current statevector and solves its expectation value \n",
    "    SV = execute( qc, S_simulator, shots=1 ).result().get_statevector()\n",
    "    EV = 0\n",
    "    for i in np.arange( len(SV) ):\n",
    "        EV = EV + Energies[i] *abs( SV[i] * np.conj(SV[i]) )\n",
    "    EV = round(EV,4)\n",
    "    return EV"
   ]
  },
  {
   "cell_type": "code",
   "execution_count": 12,
   "id": "4d966647",
   "metadata": {},
   "outputs": [],
   "source": [
    "def Top_States(Energies, Counts, shots, top):\n",
    "    #Input: Energies (array) Counts (Simulation counts) shots(total shots) top (integer)\n",
    "    #Displays the top most probable states in the system, and their associated energy\n",
    "    #Used by Koch et al. for better visualization of the Qiskit output statevector\n",
    "    # Modified this to take in counts instead of statevectors\n",
    "    P = []\n",
    "    S = []\n",
    "    E = []\n",
    "    newarr = []\n",
    "    array1 = list(Counts.keys())\n",
    "    array2 = list(Counts.values())\n",
    "    for a in np.arange( top ):\n",
    "        P.append(-1)\n",
    "        S.append('no state')\n",
    "        E.append('no energy')\n",
    "    for i in np.arange(len(States)):\n",
    "        new_top = False\n",
    "        probs = (array2[i]/shots)*100\n",
    "        state = array1[i]\n",
    "        energ = Energies[i]\n",
    "        j = 0\n",
    "        while( (new_top == False) and (j < top) ):\n",
    "            if( probs > P[j] ):\n",
    "                for k in np.arange( int( len(P) - (j+1) ) ):\n",
    "                    P[int( -1-k )] = P[int( -1-(k+1) )]\n",
    "                    S[int( -1-k )] = S[int( -1-(k+1) )]\n",
    "                    E[int( -1-k )] = E[int( -1-(k+1) )]\n",
    "                P[j] = probs\n",
    "                S[j] = state\n",
    "                E[j] = energ\n",
    "                new_top = True\n",
    "            j = int(j+1)\n",
    "    #Code for displaying proper MSB (most significant bit) arrangement\n",
    "    for n in np.arange( top ):\n",
    "        bit = list(S[n])\n",
    "        index = 0\n",
    "        copy1 = bit[index]\n",
    "        bit[index] = bit[index + 2]\n",
    "        bit[index + 2] = copy1\n",
    "        bitstring = ''.join(bit)\n",
    "        newarr.append(bitstring)\n",
    "    for s in np.arange( top ):\n",
    "        print('State ' + '|',newarr[s],'>'+' Probability: ',round(P[s],2),'%',' Energy: ',round(E[s],2))"
   ]
  },
  {
   "cell_type": "code",
   "execution_count": 13,
   "id": "f792db06",
   "metadata": {
    "scrolled": true
   },
   "outputs": [
    {
     "name": "stdout",
     "output_type": "stream",
     "text": [
      "E(γ,β):  -0.965  γ =  -6.5  β =  -2.5     step = 1\n",
      "E(γ,β):  -1.648  γ =  -6.42  β =  -2.466     step = 2\n",
      "E(γ,β):  -2.012  γ =  -6.357  β =  -2.443     step = 3\n",
      "E(γ,β):  -2.138  γ =  -6.32  β =  -2.427     step = 4\n",
      "E(γ,β):  -2.177  γ =  -6.301  β =  -2.4155     step = 5\n",
      "E(γ,β):  -2.191  γ =  -6.2915  β =  -2.4065     step = 6\n",
      "E(γ,β):  -2.197  γ =  -6.287  β =  -2.399     step = 7\n",
      "E(γ,β):  -2.2  γ =  -6.285  β =  -2.3935     step = 8\n",
      "E(γ,β):  -2.202  γ =  -6.284  β =  -2.3885     step = 9\n",
      "E(γ,β):  -2.204  γ =  -6.2835  β =  -2.3845     step = 10\n"
     ]
    }
   ],
   "source": [
    "#Parameters for Gradient Descent\n",
    "epsilon = 0.001 \n",
    "step_size=0.01\n",
    "#step_size = 0.001\n",
    "delta = 0.002\n",
    "#-------------------------------------------------------\n",
    "#Geometry parameters and external magnetic field\n",
    "Vert = [ [0,0.01] , [1,0.01] , [2,0.01] ] #h\n",
    "Edge = [ [0,1],[1,2],[0,2] ] #relationship between spins/qubits\n",
    "#-------------------------------------------------------\n",
    "#Initial values for optimization \n",
    "Energies,States = Ising_Energy(Vert,Edge)\n",
    "EV = 100\n",
    "EV_old = 1000\n",
    "EV_min = 1000\n",
    "#-------------------------------------------------------\n",
    "#Phase parameters/optimization hyperparameters\n",
    "gamma = -6.5\n",
    "beta = -2.5\n",
    "s = 0\n",
    "#-------------------------------------------------------\n",
    "#Main part of the algorithm which attempts to find absolute minimum energy of quantum system\n",
    "while( (abs( EV - EV_old ) > delta) and ( EV < EV_old ) ):\n",
    "    q = QuantumRegister(len(Vert))\n",
    "    c = ClassicalRegister(len(Vert))\n",
    "    qc= QuantumCircuit(q,c)\n",
    "    for hh in np.arange(len(Vert)):\n",
    "        qc.h( q[int(hh)] )\n",
    "    if( s != 0 ):\n",
    "        beta,gamma = Ising_Gradient_Descent(qc,q,Ising_Circuit,Vert,Edge,beta,gamma,epsilon,Energies,step_size)\n",
    "    Ising_Circuit( qc, q, Vert, Edge, beta, gamma)\n",
    "    EV_old = EV\n",
    "    EV = E_Expectation_Value( qc, Energies )\n",
    "    if( EV < EV_min ):\n",
    "        Params = [beta,gamma]\n",
    "        EV_min = EV\n",
    "    s = int(s+1)\n",
    "    print('E(\\u03B3,\\u03B2): ',np.around(EV,3),' \\u03B3 = ',round(gamma,6),' \\u03B2 = ',round(beta,6),'    step =',s)"
   ]
  },
  {
   "cell_type": "code",
   "execution_count": 14,
   "id": "1f5209b2",
   "metadata": {},
   "outputs": [
    {
     "name": "stdout",
     "output_type": "stream",
     "text": [
      "[-0.78, 5.24, -2.26, -2.24, -2.26, -2.24, 5.26, -0.72] ['000', '100', '010', '110', '001', '101', '011', '111']\n"
     ]
    }
   ],
   "source": [
    "#Checking how well the algorithm found the lowest energy\n",
    "print(Energies,States)"
   ]
  },
  {
   "cell_type": "code",
   "execution_count": 15,
   "id": "b3e843a4",
   "metadata": {},
   "outputs": [
    {
     "data": {
      "image/png": "[encoded data removed]",
      "text/plain": [
       "<Figure size 1149.38x264.88 with 1 Axes>"
      ]
     },
     "execution_count": 15,
     "metadata": {},
     "output_type": "execute_result"
    }
   ],
   "source": [
    "#Quantum circuit visualization using matplotlib\n",
    "qc.draw(output='mpl')"
   ]
  },
  {
   "cell_type": "code",
   "execution_count": 16,
   "id": "fc4efdcf",
   "metadata": {},
   "outputs": [],
   "source": [
    "#Adding measurement so that quantum circuit can be run on qasm simulator or actual quantum computers\n",
    "qc.measure([0,1,2],[0,1,2])\n",
    "qasm_simulator = Aer.get_backend('qasm_simulator')"
   ]
  },
  {
   "cell_type": "code",
   "execution_count": 17,
   "id": "cd6bf654",
   "metadata": {},
   "outputs": [
    {
     "data": {
      "image/png": "[encoded data removed]",
      "text/plain": [
       "<Figure size 1329.98x264.88 with 1 Axes>"
      ]
     },
     "execution_count": 17,
     "metadata": {},
     "output_type": "execute_result"
    }
   ],
   "source": [
    "#Visualization of quantum circuit with measurements\n",
    "qc.draw(output='mpl')"
   ]
  },
  {
   "cell_type": "code",
   "execution_count": 18,
   "id": "56462692",
   "metadata": {},
   "outputs": [],
   "source": [
    "#Running the circuit via the QASM simulator for histogram visualization\n",
    "import itertools\n",
    "\n",
    "def run_circuit_qasm(circuit,shots):\n",
    "    exec = execute(circuit, backend = qasm_simulator, shots = shots)\n",
    "    result = exec.result()\n",
    "    counts = result.get_counts(circuit)\n",
    "    #Code for displaying all possible states at the cost of memory\n",
    "    all_bitstrings = (\"\".join(states) for states in itertools.product(\"01\", repeat=3))\n",
    "    counts = {key: counts.get(key, 0) for key in all_bitstrings}\n",
    "    return result, counts"
   ]
  },
  {
   "cell_type": "code",
   "execution_count": 19,
   "id": "740b8e6e",
   "metadata": {},
   "outputs": [
    {
     "data": {
      "image/png": "[encoded data removed]",
      "text/plain": [
       "<Figure size 504x360 with 1 Axes>"
      ]
     },
     "execution_count": 19,
     "metadata": {},
     "output_type": "execute_result"
    }
   ],
   "source": [
    "#Matplotlib style visualization of probability distribution\n",
    "from matplotlib import style\n",
    "style.use(\"dark_background\")\n",
    "\n",
    "shots = 1000\n",
    "run,counts = run_circuit_qasm(qc,shots)\n",
    "plot_histogram(counts)"
   ]
  },
  {
   "cell_type": "code",
   "execution_count": 20,
   "id": "cb3d5e0f",
   "metadata": {},
   "outputs": [
    {
     "name": "stdout",
     "output_type": "stream",
     "text": [
      "State | 110 > Probability:  99.4 %  Energy:  -2.24\n",
      "State | 011 > Probability:  0.5 %  Energy:  5.26\n",
      "State | 001 > Probability:  0.1 %  Energy:  -2.26\n",
      "State | 000 > Probability:  0.0 %  Energy:  -0.78\n",
      "State | 100 > Probability:  0.0 %  Energy:  5.24\n",
      "State | 010 > Probability:  0.0 %  Energy:  -2.26\n",
      "State | 101 > Probability:  0.0 %  Energy:  -2.24\n",
      "State | 111 > Probability:  0.0 %  Energy:  -0.72\n"
     ]
    }
   ],
   "source": [
    "#States,corresponding probabilities and energies arranged descending\n",
    "Top_States(Energies,counts,shots,8)"
   ]
  },
  {
   "cell_type": "code",
   "execution_count": 21,
   "id": "49f7b4a9",
   "metadata": {},
   "outputs": [
    {
     "name": "stderr",
     "output_type": "stream",
     "text": [
      "configrc.store_credentials:WARNING:2022-04-18 17:46:31,010: Credentials already present. Set overwrite=True to overwrite.\n"
     ]
    },
    {
     "data": {
      "text/plain": [
       "<AccountProvider for IBMQ(hub='ibm-q', group='open', project='main')>"
      ]
     },
     "execution_count": 21,
     "metadata": {},
     "output_type": "execute_result"
    }
   ],
   "source": [
    "#Connecting to the IBM cloud backend\n",
    "from qiskit import IBMQ\n",
    "\n",
    "IBMQ.save_account('*************************************************************************...')\n",
    "IBMQ.load_account()"
   ]
  },
  {
   "cell_type": "code",
   "execution_count": 28,
   "id": "84d88c5e",
   "metadata": {},
   "outputs": [
    {
     "name": "stdout",
     "output_type": "stream",
     "text": [
      "ibmq_qasm_simulator has 3 queued and simulated qubits\n",
      "ibmq_armonk has 0 queued and 1 qubits\n",
      "ibmq_santiago has 6 queued and 5 qubits\n",
      "ibmq_bogota has 9 queued and 5 qubits\n",
      "ibmq_lima has 3 queued and 5 qubits\n",
      "ibmq_belem has 2 queued and 5 qubits\n",
      "ibmq_quito has 3 queued and 5 qubits\n",
      "simulator_statevector has 3 queued and simulated qubits\n",
      "simulator_mps has 4 queued and simulated qubits\n",
      "simulator_extended_stabilizer has 4 queued and simulated qubits\n",
      "simulator_stabilizer has 4 queued and simulated qubits\n",
      "ibmq_manila has 18 queued and 5 qubits\n"
     ]
    }
   ],
   "source": [
    "#Checking of quantum computer queues\n",
    "\n",
    "provider = IBMQ.get_provider(\"ibm-q\")\n",
    "for backend in provider.backends():\n",
    "    try:\n",
    "        qubit_count = len(backend.properties().qubits)\n",
    "    except:\n",
    "        qubit_count = \"simulated\"\n",
    "    print(f\"{backend.name()} has {backend.status().pending_jobs} queued and {qubit_count} qubits\")    "
   ]
  },
  {
   "cell_type": "code",
   "execution_count": 29,
   "id": "d87116aa",
   "metadata": {},
   "outputs": [
    {
     "name": "stdout",
     "output_type": "stream",
     "text": [
      "Job Status: job has successfully run\n"
     ]
    }
   ],
   "source": [
    "#Code for monitoring quantum computer run\n",
    "from qiskit.tools.monitor import job_monitor\n",
    "\n",
    "backend = provider.get_backend(\"ibmq_lima\")\n",
    "job = execute(qc, backend = backend, shots = 1000)\n",
    "job_monitor(job)"
   ]
  },
  {
   "cell_type": "code",
   "execution_count": 30,
   "id": "74b8b4a5",
   "metadata": {
    "scrolled": true
   },
   "outputs": [
    {
     "data": {
      "image/png": "[encoded data removed]",
      "text/plain": [
       "<Figure size 504x360 with 1 Axes>"
      ]
     },
     "execution_count": 30,
     "metadata": {},
     "output_type": "execute_result"
    }
   ],
   "source": [
    "#Get number of occurences per configuration\n",
    "result = job.result()\n",
    "counts = result.get_counts(qc)\n",
    "\n",
    "#Visualization of results\n",
    "plot_histogram(counts)"
   ]
  },
  {
   "cell_type": "code",
   "execution_count": 31,
   "id": "c03d68a9",
   "metadata": {},
   "outputs": [
    {
     "name": "stdout",
     "output_type": "stream",
     "text": [
      "Result(backend_name='ibmq_lima', backend_version='1.0.35', qobj_id='bfd72817-2ae8-47af-b2f7-d8a99e4cd0e8', job_id='625d33d3b57b804fba287cf4', success=True, results=[ExperimentResult(shots=1000, success=True, meas_level=2, data=ExperimentResultData(counts={'0x0': 12, '0x1': 140, '0x2': 43, '0x3': 645, '0x4': 76, '0x5': 6, '0x6': 41, '0x7': 37}), header=QobjExperimentHeader(clbit_labels=[['c9', 0], ['c9', 1], ['c9', 2]], creg_sizes=[['c9', 3]], global_phase=2.356194490192344, memory_slots=3, metadata={}, n_qubits=5, name='circuit-11246', qreg_sizes=[['q', 5]], qubit_labels=[['q', 0], ['q', 1], ['q', 2], ['q', 3], ['q', 4]]))], date=2022-04-18 17:48:11+08:00, status=Successful completion, status=QobjHeader(backend_name='ibmq_lima', backend_version='1.0.35'), execution_id='a5bbfcd4-befc-11ec-877b-b02628f7f59e', time_taken=4.669268846511841, error=None, client_version={'qiskit': '0.29.0'})\n"
     ]
    }
   ],
   "source": [
    "#View specific run parameters and results \n",
    "print(result)"
   ]
  },
  {
   "cell_type": "code",
   "execution_count": 32,
   "id": "1d6e184a",
   "metadata": {},
   "outputs": [
    {
     "name": "stdout",
     "output_type": "stream",
     "text": [
      "{'000': 12, '001': 140, '010': 43, '011': 645, '100': 76, '101': 6, '110': 41, '111': 37}\n",
      "['000', '100', '010', '110', '001', '101', '011', '111']\n",
      "[-0.78, 5.24, -2.26, -2.24, -2.26, -2.24, 5.26, -0.72]\n"
     ]
    }
   ],
   "source": [
    "print(counts)\n",
    "print(States)\n",
    "print(Energies)"
   ]
  },
  {
   "cell_type": "code",
   "execution_count": 33,
   "id": "fb793093",
   "metadata": {},
   "outputs": [
    {
     "name": "stdout",
     "output_type": "stream",
     "text": [
      "State | 110 > Probability:  64.5 %  Energy:  -2.24\n",
      "State | 100 > Probability:  14.0 %  Energy:  5.24\n",
      "State | 001 > Probability:  7.6 %  Energy:  -2.26\n",
      "State | 010 > Probability:  4.3 %  Energy:  -2.26\n",
      "State | 011 > Probability:  4.1 %  Energy:  5.26\n",
      "State | 111 > Probability:  3.7 %  Energy:  -0.72\n",
      "State | 000 > Probability:  1.2 %  Energy:  -0.78\n",
      "State | 101 > Probability:  0.6 %  Energy:  -2.24\n"
     ]
    }
   ],
   "source": [
    "Top_States(Energies,counts,shots,8)"
   ]
  }
 ],
 "metadata": {
  "kernelspec": {
   "display_name": "Python 3",
   "language": "python",
   "name": "python3"
  },
  "language_info": {
   "codemirror_mode": {
    "name": "ipython",
    "version": 3
   },
   "file_extension": ".py",
   "mimetype": "text/x-python",
   "name": "python",
   "nbconvert_exporter": "python",
   "pygments_lexer": "ipython3",
   "version": "3.8.8"
  }
 },
 "nbformat": 4,
 "nbformat_minor": 5
}
