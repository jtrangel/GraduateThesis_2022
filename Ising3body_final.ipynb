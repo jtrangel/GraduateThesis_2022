{
 "cells": [
  {
   "cell_type": "code",
   "execution_count": 1,
   "id": "a80cc89d",
   "metadata": {},
   "outputs": [],
   "source": [
    "import qiskit"
   ]
  },
  {
   "cell_type": "code",
   "execution_count": 2,
   "id": "8ee5df49",
   "metadata": {},
   "outputs": [
    {
     "name": "stderr",
     "output_type": "stream",
     "text": [
      "D:\\anaconda\\lib\\site-packages\\qiskit\\aqua\\__init__.py:86: DeprecationWarning: The package qiskit.aqua is deprecated. It was moved/refactored to qiskit-terra For more information see <https://github.com/Qiskit/qiskit-aqua/blob/main/README.md#migration-guide>\n",
      "  warn_package('aqua', 'qiskit-terra')\n"
     ]
    },
    {
     "data": {
      "text/plain": [
       "{'qiskit-terra': '0.18.1', 'qiskit-aer': '0.8.2', 'qiskit-ignis': '0.6.0', 'qiskit-ibmq-provider': '0.16.0', 'qiskit-aqua': '0.9.4', 'qiskit': '0.29.0', 'qiskit-nature': None, 'qiskit-finance': None, 'qiskit-optimization': None, 'qiskit-machine-learning': None}"
      ]
     },
     "execution_count": 2,
     "metadata": {},
     "output_type": "execute_result"
    }
   ],
   "source": [
    "qiskit.__qiskit_version__"
   ]
  },
  {
   "cell_type": "code",
   "execution_count": 3,
   "id": "54d1f4fe",
   "metadata": {},
   "outputs": [],
   "source": [
    "#Importing necessary packages from qiskit, numpy, math and matplotlib\n",
    "from qiskit import ClassicalRegister, QuantumRegister, QuantumCircuit, Aer, execute\n",
    "import numpy as np \n",
    "import math as m\n",
    "import matplotlib\n",
    "import matplotlib.pyplot as plt\n",
    "%matplotlib inline\n",
    "from qiskit.tools.visualization import plot_histogram\n",
    "\n",
    "#Statevector simulator which is the main backend used\n",
    "S_simulator = Aer.backends(name='statevector_simulator')[0] "
   ]
  },
  {
   "cell_type": "code",
   "execution_count": 4,
   "id": "7294c02a",
   "metadata": {},
   "outputs": [],
   "source": [
    "#***************************************************************************************\n",
    "#  -The functions used in this code were mainly developed by Koch, et al. with minor \n",
    "#   adjustments and changes to fit the model and matrix derivations done in Chapter 3 - \n",
    "#\n",
    "#    Title: Fundamentals In Quantum Algorithms: A Tutorial Series Using Qiskit Continued\n",
    "#    Author: Koch, Daniel and Patel, Saahil and Wessing, Laura and Alsing, Paul M.\n",
    "#    Date: 2020\n",
    "#    Availability: 10.48550/ARXIV.2008.10647\n",
    "#\n",
    "#***************************************************************************************"
   ]
  },
  {
   "cell_type": "code",
   "execution_count": 5,
   "id": "2cf2a556",
   "metadata": {},
   "outputs": [],
   "source": [
    "def Ub_Mixer(qc, q, beta, Vert):\n",
    "    #Input: qc (QuantumCircuit) q (QuantumRegister) beta (hyperparameter) Vert (counting array\n",
    "    #       with external magnetic field values)\n",
    "    #Applies the quantum logic gates for a U(B,beta) operation using Rx, Ry, and CNOT gates\n",
    "    qc.barrier()\n",
    "    for v in np.arange( len(Vert) ):\n",
    "        qc.rx( -2*beta, q[int(Vert[v][0])] ) #Rx gates\n",
    "    #CNOT gates for entanglement\n",
    "    qc.cx( q[0], q[1] )    \n",
    "    qc.cx( q[2], q[0] )\n",
    "    for v2 in np.arange( len(Vert) ):\n",
    "        qc.ry( -2*beta, q[int(Vert[v2][0])] ) #Ry gates"
   ]
  },
  {
   "cell_type": "code",
   "execution_count": 6,
   "id": "9982f4e2",
   "metadata": {},
   "outputs": [],
   "source": [
    "def Uc_Ising(qc, q, gamma, Vert, Edge):\n",
    "    #Input: qc (QuantumCircuit) q (QuantumRegister) gamma (hyperparameter) Vert (counting array \n",
    "    #       with h-values) Edge (array describing qubit/spin relations)\n",
    "    #Applies the quantum logic gates for a U(C,gamma) operation using Rz and CNOT gates\n",
    "    J = [1.5,-2.25,1.5] #Values for J \n",
    "    for e in np.arange( len(Edge) ): # Z_i Z_j\n",
    "        qc.cx( q[int(Edge[e][0])], q[int(Edge[e][1])] ) #Ancilla CNOT gates with Rz gate\n",
    "        qc.rz(-2*gamma*J[e], q[int(Edge[e][1])] ) #Rz gate encoding coupling coefficient (J) values\n",
    "        qc.cx( q[int(Edge[e][0])], q[int(Edge[e][1])] )\n",
    "    qc.barrier()\n",
    "    for v in np.arange( len(Vert) ): # Z_gamma\n",
    "        qc.rz(-2*gamma*(Vert[v][1]), q[int(Vert[v][0])] ) #Rz gate encoding external magnetic field (h) effects"
   ]
  },
  {
   "cell_type": "code",
   "execution_count": 7,
   "id": "24d2aa3c",
   "metadata": {},
   "outputs": [],
   "source": [
    "def Ising_Circuit(qc, q, V, E, beta, gamma, **kwargs):\n",
    "    #Input: qc (QuantumCircuit) q (QuantumRegister) V (Vert array) E (Edge array) beta (hyperparameter)\n",
    "    #       gamma (hyperparameter)\n",
    "    #Forms Quantum Circuit for given geometry parameters in V, E and phase parameters in beta, gamma\n",
    "    Uc_Ising(qc,q,gamma,V,E) \n",
    "    Ub_Mixer(qc,q,beta,V)"
   ]
  },
  {
   "cell_type": "code",
   "execution_count": 8,
   "id": "36a9b3ee",
   "metadata": {},
   "outputs": [],
   "source": [
    "def Binary(N, total, LSB):\n",
    "    #Input: N (integer) total (integer) LSB (string -least significant bit)\n",
    "    #Gives base-2 binary equivalent of N with LSB notation. \n",
    "    #Used for listing down possible states for N qubits\n",
    "    qubits = int(m.log(total,2))\n",
    "    b_num = np.zeros(qubits)\n",
    "    for i in np.arange(qubits):\n",
    "        if( N/((2)**(qubits-i-1)) >= 1 ):\n",
    "            if(LSB=='R'):\n",
    "                b_num[i] = 1\n",
    "            if(LSB=='L'):\n",
    "                b_num[int(qubits-(i+1))] = 1\n",
    "            N = N - 2**(qubits-i-1)\n",
    "    B = []\n",
    "    for j in np.arange(len(b_num)):\n",
    "        B.append(int(b_num[j]))\n",
    "    return B"
   ]
  },
  {
   "cell_type": "code",
   "execution_count": 9,
   "id": "166a83ec",
   "metadata": {},
   "outputs": [],
   "source": [
    "def Ising_Energy(V, E, **kwargs):\n",
    "    #Input: V (Vert array) E (Edge array) \n",
    "    #Manually solves for the energy of each configuration based on the set Hamiltonian\n",
    "    #This is solved for comparative purposes\n",
    "    Energies = []\n",
    "    States = []\n",
    "    J = [1.5,-2.25,1.5] #coupling coefficient values\n",
    "    for s in np.arange( 2**len(V) ):\n",
    "        B = Binary(int(s),2**len(V),'L') \n",
    "        B2 = []\n",
    "        for i in np.arange(len(B)):\n",
    "            if( B[i] == 0 ):\n",
    "                B2.append(1)  #when binary state is 0, Ising value=1\n",
    "            else:\n",
    "                B2.append(-1) #Ising value = -1 otherwise\n",
    "        state = ''\n",
    "        energy = 0\n",
    "        for s2 in np.arange(len(B)):\n",
    "            state = state+str(B[s2])\n",
    "            energy = energy - V[s2][1]*B2[s2] #2nd term of cost function\n",
    "        States.append(state) #Lists down states \n",
    "        for j in np.arange( len(E) ):\n",
    "            energy = energy - J[j] * B2[int(E[j][0])] * B2[int(E[j][1])]\n",
    "        Energies.append(energy) #Lists down corresponding energy per state\n",
    "    return Energies,States "
   ]
  },
  {
   "cell_type": "code",
   "execution_count": 10,
   "id": "65d9e16e",
   "metadata": {},
   "outputs": [],
   "source": [
    "def Ising_Gradient_Descent(qc, q, Circ, V, E, beta, gamma, epsilon, En, step):\n",
    "    #Input: qc (QuantumCircuit) q (QuantumRegister) Circ (Ising_Circuit function) V (Vert array)\n",
    "    # E (Edgearray) beta (hyperparameter) gamma (hyperparameter) epsilon (optimization parameter)\n",
    "    # En (Energies) step (step size)\n",
    "    # Uses Gradient Descent optimization to determine the next values for gamma and beta \n",
    "    params = [ [beta+epsilon,gamma],[beta-epsilon,gamma],[beta,gamma+epsilon],[beta,gamma-epsilon] ]\n",
    "    ev = []\n",
    "    for i in np.arange( 4 ):\n",
    "        q = QuantumRegister(len(V))\n",
    "        qc= QuantumCircuit(q)\n",
    "        for hh in np.arange(len(V)):\n",
    "            qc.h( q[int(hh)] )\n",
    "        Circ( qc, q, V, E, params[i][0], params[i][1])\n",
    "        ev.append( E_Expectation_Value( qc, En ) )\n",
    "    beta_next = beta - ( ev[0] - ev[1] )/( 2.0*epsilon ) * step\n",
    "    gamma_next = gamma - ( ev[2] - ev[3] )/( 2.0*epsilon ) * step\n",
    "    return beta_next, gamma_next"
   ]
  },
  {
   "cell_type": "code",
   "execution_count": 11,
   "id": "828162b8",
   "metadata": {},
   "outputs": [],
   "source": [
    "def E_Expectation_Value( qc, Energies ):\n",
    "    #Input: qc (QuantumCircuit) Energies (array)\n",
    "    #Gets the current statevector and solves its expectation value \n",
    "    SV = execute( qc, S_simulator, shots=1 ).result().get_statevector()\n",
    "    EV = 0\n",
    "    for i in np.arange( len(SV) ):\n",
    "        EV = EV + Energies[i] *abs( SV[i] * np.conj(SV[i]) )\n",
    "    EV = round(EV,4)\n",
    "    return EV"
   ]
  },
  {
   "cell_type": "code",
   "execution_count": 12,
   "id": "4d966647",
   "metadata": {},
   "outputs": [],
   "source": [
    "def Top_States(Energies, Counts, shots, top):\n",
    "    #Input: Energies (array) Counts (Simulation counts) shots(total shots) top (integer)\n",
    "    #Displays the top most probable states in the system, and their associated energy\n",
    "    #Used by Koch et al. for better visualization of the Qiskit output statevector\n",
    "    # Modified this to take in counts instead of statevectors\n",
    "    P = []\n",
    "    S = []\n",
    "    E = []\n",
    "    newarr = []\n",
    "    array1 = list(Counts.keys())\n",
    "    array2 = list(Counts.values())\n",
    "    for a in np.arange( top ):\n",
    "        P.append(-1)\n",
    "        S.append('no state')\n",
    "        E.append('no energy')\n",
    "    for i in np.arange(len(States)):\n",
    "        new_top = False\n",
    "        probs = (array2[i]/shots)*100\n",
    "        state = array1[i]\n",
    "        energ = Energies[i]\n",
    "        j = 0\n",
    "        while( (new_top == False) and (j < top) ):\n",
    "            if( probs > P[j] ):\n",
    "                for k in np.arange( int( len(P) - (j+1) ) ):\n",
    "                    P[int( -1-k )] = P[int( -1-(k+1) )]\n",
    "                    S[int( -1-k )] = S[int( -1-(k+1) )]\n",
    "                    E[int( -1-k )] = E[int( -1-(k+1) )]\n",
    "                P[j] = probs\n",
    "                S[j] = state\n",
    "                E[j] = energ\n",
    "                new_top = True\n",
    "            j = int(j+1)\n",
    "    #Code for displaying proper MSB (most significant bit) arrangement\n",
    "    for n in np.arange( top ):\n",
    "        bit = list(S[n])\n",
    "        index = 0\n",
    "        copy1 = bit[index]\n",
    "        bit[index] = bit[index + 2]\n",
    "        bit[index + 2] = copy1\n",
    "        bitstring = ''.join(bit)\n",
    "        newarr.append(bitstring)\n",
    "    for s in np.arange( top ):\n",
    "        print('State ' + '|',newarr[s],'>'+' Probability: ',round(P[s],2),'%',' Energy: ',round(E[s],2))"
   ]
  },
  {
   "cell_type": "code",
   "execution_count": 13,
   "id": "f792db06",
   "metadata": {
    "scrolled": true
   },
   "outputs": [
    {
     "name": "stdout",
     "output_type": "stream",
     "text": [
      "E(γ,β):  -0.965  γ =  -6.5  β =  -2.5     step = 1\n",
      "E(γ,β):  -1.04  γ =  -6.492  β =  -2.4966     step = 2\n",
      "E(γ,β):  -1.114  γ =  -6.4841  β =  -2.4933     step = 3\n",
      "E(γ,β):  -1.184  γ =  -6.4763  β =  -2.4901     step = 4\n",
      "E(γ,β):  -1.252  γ =  -6.4686  β =  -2.487     step = 5\n",
      "E(γ,β):  -1.318  γ =  -6.461  β =  -2.484     step = 6\n",
      "E(γ,β):  -1.381  γ =  -6.4536  β =  -2.4811     step = 7\n",
      "E(γ,β):  -1.441  γ =  -6.44635  β =  -2.4783     step = 8\n",
      "E(γ,β):  -1.498  γ =  -6.43925  β =  -2.4756     step = 9\n",
      "E(γ,β):  -1.551  γ =  -6.43235  β =  -2.473     step = 10\n",
      "E(γ,β):  -1.601  γ =  -6.4257  β =  -2.47045     step = 11\n",
      "E(γ,β):  -1.648  γ =  -6.4192  β =  -2.46805     step = 12\n",
      "E(γ,β):  -1.693  γ =  -6.4129  β =  -2.46565     step = 13\n",
      "E(γ,β):  -1.734  γ =  -6.40685  β =  -2.46335     step = 14\n",
      "E(γ,β):  -1.772  γ =  -6.401  β =  -2.46115     step = 15\n",
      "E(γ,β):  -1.807  γ =  -6.3954  β =  -2.45905     step = 16\n",
      "E(γ,β):  -1.84  γ =  -6.39  β =  -2.457     step = 17\n",
      "E(γ,β):  -1.87  γ =  -6.3848  β =  -2.455     step = 18\n",
      "E(γ,β):  -1.898  γ =  -6.37985  β =  -2.4531     step = 19\n",
      "E(γ,β):  -1.923  γ =  -6.3751  β =  -2.45125     step = 20\n",
      "E(γ,β):  -1.947  γ =  -6.37055  β =  -2.44945     step = 21\n",
      "E(γ,β):  -1.968  γ =  -6.3662  β =  -2.4477     step = 22\n",
      "E(γ,β):  -1.988  γ =  -6.36205  β =  -2.446     step = 23\n",
      "E(γ,β):  -2.006  γ =  -6.3581  β =  -2.4443     step = 24\n",
      "E(γ,β):  -2.022  γ =  -6.35435  β =  -2.4427     step = 25\n",
      "E(γ,β):  -2.037  γ =  -6.35075  β =  -2.44115     step = 26\n",
      "E(γ,β):  -2.051  γ =  -6.34735  β =  -2.43965     step = 27\n",
      "E(γ,β):  -2.064  γ =  -6.3441  β =  -2.43815     step = 28\n",
      "E(γ,β):  -2.075  γ =  -6.341  β =  -2.4367     step = 29\n",
      "E(γ,β):  -2.085  γ =  -6.33805  β =  -2.4353     step = 30\n",
      "E(γ,β):  -2.095  γ =  -6.33525  β =  -2.4339     step = 31\n",
      "E(γ,β):  -2.104  γ =  -6.3326  β =  -2.43255     step = 32\n",
      "E(γ,β):  -2.112  γ =  -6.33005  β =  -2.43125     step = 33\n",
      "E(γ,β):  -2.119  γ =  -6.32765  β =  -2.43     step = 34\n",
      "E(γ,β):  -2.125  γ =  -6.32535  β =  -2.42875     step = 35\n",
      "E(γ,β):  -2.131  γ =  -6.3232  β =  -2.42755     step = 36\n",
      "E(γ,β):  -2.137  γ =  -6.32115  β =  -2.4264     step = 37\n",
      "E(γ,β):  -2.142  γ =  -6.3192  β =  -2.42525     step = 38\n",
      "E(γ,β):  -2.146  γ =  -6.3173  β =  -2.42415     step = 39\n",
      "E(γ,β):  -2.151  γ =  -6.31555  β =  -2.42305     step = 40\n",
      "E(γ,β):  -2.154  γ =  -6.3139  β =  -2.422     step = 41\n",
      "E(γ,β):  -2.158  γ =  -6.31235  β =  -2.42095     step = 42\n",
      "E(γ,β):  -2.161  γ =  -6.31085  β =  -2.4199     step = 43\n",
      "E(γ,β):  -2.164  γ =  -6.30945  β =  -2.4189     step = 44\n",
      "E(γ,β):  -2.167  γ =  -6.3081  β =  -2.41795     step = 45\n",
      "E(γ,β):  -2.169  γ =  -6.30685  β =  -2.417     step = 46\n",
      "E(γ,β):  -2.172  γ =  -6.30565  β =  -2.41605     step = 47\n",
      "E(γ,β):  -2.174  γ =  -6.3045  β =  -2.4151     step = 48\n",
      "E(γ,β):  -2.176  γ =  -6.3034  β =  -2.4142     step = 49\n",
      "E(γ,β):  -2.178  γ =  -6.30235  β =  -2.4133     step = 50\n"
     ]
    }
   ],
   "source": [
    "#Parameters for Gradient Descent\n",
    "epsilon = 0.001 \n",
    "#step_size=0.01\n",
    "step_size = 0.001\n",
    "delta = 0.002\n",
    "#-------------------------------------------------------\n",
    "#Geometry parameters and external magnetic field\n",
    "Vert = [ [0,0.01] , [1,0.01] , [2,0.01] ] #h\n",
    "Edge = [ [0,1],[1,2],[0,2] ] #relationship between spins/qubits\n",
    "#-------------------------------------------------------\n",
    "#Initial values for optimization \n",
    "Energies,States = Ising_Energy(Vert,Edge)\n",
    "EV = 100\n",
    "EV_old = 1000\n",
    "EV_min = 1000\n",
    "#-------------------------------------------------------\n",
    "#Phase parameters/optimization hyperparameters\n",
    "gamma = -6.5\n",
    "beta = -2.5\n",
    "s = 0\n",
    "#-------------------------------------------------------\n",
    "#Main part of the algorithm which attempts to find absolute minimum energy of quantum system\n",
    "while( (abs( EV - EV_old ) > delta) and ( EV < EV_old ) ):\n",
    "    q = QuantumRegister(len(Vert))\n",
    "    c = ClassicalRegister(len(Vert))\n",
    "    qc= QuantumCircuit(q,c)\n",
    "    for hh in np.arange(len(Vert)):\n",
    "        qc.h( q[int(hh)] )\n",
    "    if( s != 0 ):\n",
    "        beta,gamma = Ising_Gradient_Descent(qc,q,Ising_Circuit,Vert,Edge,beta,gamma,epsilon,Energies,step_size)\n",
    "    Ising_Circuit( qc, q, Vert, Edge, beta, gamma)\n",
    "    EV_old = EV\n",
    "    EV = E_Expectation_Value( qc, Energies )\n",
    "    if( EV < EV_min ):\n",
    "        Params = [beta,gamma]\n",
    "        EV_min = EV\n",
    "    s = int(s+1)\n",
    "    print('E(\\u03B3,\\u03B2): ',np.around(EV,3),' \\u03B3 = ',round(gamma,6),' \\u03B2 = ',round(beta,6),'    step =',s)"
   ]
  },
  {
   "cell_type": "code",
   "execution_count": 14,
   "id": "1f5209b2",
   "metadata": {},
   "outputs": [
    {
     "name": "stdout",
     "output_type": "stream",
     "text": [
      "[-0.78, 5.24, -2.26, -2.24, -2.26, -2.24, 5.26, -0.72] ['000', '100', '010', '110', '001', '101', '011', '111']\n"
     ]
    }
   ],
   "source": [
    "#Checking how well the algorithm found the lowest energy\n",
    "print(Energies,States)"
   ]
  },
  {
   "cell_type": "code",
   "execution_count": 15,
   "id": "b3e843a4",
   "metadata": {},
   "outputs": [
    {
     "data": {
      "image/png": "[encoded data removed]",
      "text/plain": [
       "<Figure size 1162.5x264.88 with 1 Axes>"
      ]
     },
     "execution_count": 15,
     "metadata": {},
     "output_type": "execute_result"
    }
   ],
   "source": [
    "#Quantum circuit visualization using matplotlib\n",
    "qc.draw(output='mpl')"
   ]
  },
  {
   "cell_type": "code",
   "execution_count": 16,
   "id": "69507cda",
   "metadata": {},
   "outputs": [],
   "source": [
    "#Adding measurement so that quantum circuit can be run on qasm simulator or actual quantum computers\n",
    "qc.measure([0,1,2],[0,1,2])\n",
    "qasm_simulator = Aer.get_backend('qasm_simulator')"
   ]
  },
  {
   "cell_type": "code",
   "execution_count": 17,
   "id": "cd6bf654",
   "metadata": {},
   "outputs": [
    {
     "data": {
      "image/png": "[encoded data removed]",
      "text/plain": [
       "<Figure size 1343.1x264.88 with 1 Axes>"
      ]
     },
     "execution_count": 17,
     "metadata": {},
     "output_type": "execute_result"
    }
   ],
   "source": [
    "#Visualization of quantum circuit with measurements\n",
    "qc.draw(output='mpl')"
   ]
  },
  {
   "cell_type": "code",
   "execution_count": 18,
   "id": "56462692",
   "metadata": {},
   "outputs": [],
   "source": [
    "#Running the circuit via the QASM simulator for histogram visualization\n",
    "import itertools\n",
    "\n",
    "def run_circuit_qasm(circuit,shots):\n",
    "    exec = execute(circuit, backend = qasm_simulator, shots = shots)\n",
    "    result = exec.result()\n",
    "    counts = result.get_counts(circuit)\n",
    "    #Code for displaying all possible states at the cost of memory\n",
    "    all_bitstrings = (\"\".join(states) for states in itertools.product(\"01\", repeat=3))\n",
    "    counts = {key: counts.get(key, 0) for key in all_bitstrings}\n",
    "    return result, counts"
   ]
  },
  {
   "cell_type": "code",
   "execution_count": 19,
   "id": "740b8e6e",
   "metadata": {},
   "outputs": [
    {
     "data": {
      "image/png": "[encoded data removed]",
      "text/plain": [
       "<Figure size 648x504 with 1 Axes>"
      ]
     },
     "execution_count": 19,
     "metadata": {},
     "output_type": "execute_result"
    }
   ],
   "source": [
    "#Matplotlib style visualization of probability distribution\n",
    "from matplotlib import style\n",
    "from matplotlib import pyplot as plt\n",
    "\n",
    "style.use(\"dark_background\")\n",
    "\n",
    "params = {#'figure.figsize': (20, 17),\n",
    "          'font.family': 'DeJavu Serif',\n",
    "          'font.serif':'Times New Roman',\n",
    "         #'axes.labelsize': 'xx-large',\n",
    "          #'legend.loc': 'upper left',\n",
    "         'axes.titlesize':'x-large',\n",
    "         'xtick.labelsize':'large',\n",
    "         'ytick.labelsize':'large'}\n",
    "plt.rcParams.update(params)\n",
    "\n",
    "shots = 1000\n",
    "run,counts_sim = run_circuit_qasm(qc,shots)\n",
    "plot_histogram(counts_sim, figsize = (9,7), title =r'Probabilities (qasm-simulator) $\\alpha_1 = $ ')"
   ]
  },
  {
   "cell_type": "code",
   "execution_count": 20,
   "id": "c716603a",
   "metadata": {},
   "outputs": [
    {
     "name": "stdout",
     "output_type": "stream",
     "text": [
      "State | 110 > Probability:  98.3 %  Energy:  -2.24\n",
      "State | 100 > Probability:  0.5 %  Energy:  5.24\n",
      "State | 000 > Probability:  0.3 %  Energy:  -0.78\n",
      "State | 010 > Probability:  0.3 %  Energy:  -2.26\n",
      "State | 001 > Probability:  0.3 %  Energy:  -2.26\n",
      "State | 011 > Probability:  0.3 %  Energy:  5.26\n",
      "State | 101 > Probability:  0.0 %  Energy:  -2.24\n",
      "State | 111 > Probability:  0.0 %  Energy:  -0.72\n"
     ]
    }
   ],
   "source": [
    "#States,corresponding probabilities and energies arranged descending\n",
    "Top_States(Energies,counts_sim,shots,8)"
   ]
  },
  {
   "cell_type": "code",
   "execution_count": 21,
   "id": "49f7b4a9",
   "metadata": {},
   "outputs": [
    {
     "name": "stderr",
     "output_type": "stream",
     "text": [
      "configrc.store_credentials:WARNING:2022-04-19 23:28:13,737: Credentials already present. Set overwrite=True to overwrite.\n"
     ]
    },
    {
     "data": {
      "text/plain": [
       "<AccountProvider for IBMQ(hub='ibm-q', group='open', project='main')>"
      ]
     },
     "execution_count": 21,
     "metadata": {},
     "output_type": "execute_result"
    }
   ],
   "source": [
    "#Connecting to the IBM cloud backend\n",
    "from qiskit import IBMQ\n",
    "\n",
    "IBMQ.save_account('9e3d0959293d1ede45d5a77e4f26528b6e996680d58c590393f87ad347b5ec58cb86a21ac07ad4eae63659e5a8d4038054de693eb7b7021fdc3307e55efaecea')\n",
    "IBMQ.load_account()"
   ]
  },
  {
   "cell_type": "code",
   "execution_count": 22,
   "id": "84d88c5e",
   "metadata": {},
   "outputs": [
    {
     "name": "stdout",
     "output_type": "stream",
     "text": [
      "ibmq_qasm_simulator has 3 queued and simulated qubits\n",
      "ibmq_armonk has 5 queued and 1 qubits\n",
      "ibmq_santiago has 11 queued and 5 qubits\n",
      "ibmq_bogota has 34 queued and 5 qubits\n",
      "ibmq_lima has 3 queued and 5 qubits\n",
      "ibmq_belem has 1 queued and 5 qubits\n",
      "ibmq_quito has 1 queued and 5 qubits\n",
      "simulator_statevector has 3 queued and simulated qubits\n",
      "simulator_mps has 3 queued and simulated qubits\n",
      "simulator_extended_stabilizer has 3 queued and simulated qubits\n",
      "simulator_stabilizer has 3 queued and simulated qubits\n",
      "ibmq_manila has 5 queued and 5 qubits\n"
     ]
    }
   ],
   "source": [
    "#Checking of quantum computer queues\n",
    "\n",
    "provider = IBMQ.get_provider(\"ibm-q\")\n",
    "for backend in provider.backends():\n",
    "    try:\n",
    "        qubit_count = len(backend.properties().qubits)\n",
    "    except:\n",
    "        qubit_count = \"simulated\"\n",
    "    print(f\"{backend.name()} has {backend.status().pending_jobs} queued and {qubit_count} qubits\")    "
   ]
  },
  {
   "cell_type": "code",
   "execution_count": 23,
   "id": "d87116aa",
   "metadata": {},
   "outputs": [
    {
     "name": "stdout",
     "output_type": "stream",
     "text": [
      "Job Status: job has successfully run\n"
     ]
    }
   ],
   "source": [
    "#Code for monitoring quantum computer run\n",
    "from qiskit.tools.monitor import job_monitor\n",
    "\n",
    "backend = provider.get_backend(\"ibmq_lima\")\n",
    "job = execute(qc, backend = backend, shots = 1000)\n",
    "job_monitor(job)"
   ]
  },
  {
   "cell_type": "code",
   "execution_count": 24,
   "id": "74b8b4a5",
   "metadata": {
    "scrolled": true
   },
   "outputs": [
    {
     "data": {
      "image/png": "[encoded data removed]",
      "text/plain": [
       "<Figure size 648x504 with 1 Axes>"
      ]
     },
     "execution_count": 24,
     "metadata": {},
     "output_type": "execute_result"
    }
   ],
   "source": [
    "#Get number of occurences per configuration\n",
    "result = job.result()\n",
    "counts_qc = result.get_counts(qc)\n",
    "\n",
    "#Visualization of results\n",
    "legend = ['qasm_simulator','ibmq-lima']\n",
    "plot_histogram([counts_sim,counts_qc], figsize = (9,7),  legend= legend,\n",
    "               title=r'Probabilities (1000 shots) $\\alpha_1 = -1.5$ (1.5$\\vert$-2.25$\\vert$1.5)')"
   ]
  },
  {
   "cell_type": "code",
   "execution_count": 25,
   "id": "c03d68a9",
   "metadata": {},
   "outputs": [
    {
     "name": "stdout",
     "output_type": "stream",
     "text": [
      "Result(backend_name='ibmq_lima', backend_version='1.0.35', qobj_id='949e0f66-d97e-42b2-8ae7-17b0879cf7b2', job_id='625ed5343ba19993dd5653e4', success=True, results=[ExperimentResult(shots=1000, success=True, meas_level=2, data=ExperimentResultData(counts={'0x0': 13, '0x1': 43, '0x2': 68, '0x3': 574, '0x4': 34, '0x5': 7, '0x6': 234, '0x7': 27}), header=QobjExperimentHeader(clbit_labels=[['c49', 0], ['c49', 1], ['c49', 2]], creg_sizes=[['c49', 3]], global_phase=2.3561944901923475, memory_slots=3, metadata={}, n_qubits=5, name='circuit-65646', qreg_sizes=[['q', 5]], qubit_labels=[['q', 0], ['q', 1], ['q', 2], ['q', 3], ['q', 4]]))], date=2022-04-19 23:29:55+08:00, status=Successful completion, status=QobjHeader(backend_name='ibmq_lima', backend_version='1.0.35'), execution_id='8e06e302-bff5-11ec-877b-b02628f7f59e', time_taken=4.021468877792358, error=None, client_version={'qiskit': '0.29.0'})\n"
     ]
    }
   ],
   "source": [
    "#View specific run parameters and results \n",
    "print(result)"
   ]
  },
  {
   "cell_type": "code",
   "execution_count": 26,
   "id": "1d6e184a",
   "metadata": {},
   "outputs": [
    {
     "name": "stdout",
     "output_type": "stream",
     "text": [
      "{'000': 13, '001': 43, '010': 68, '011': 574, '100': 34, '101': 7, '110': 234, '111': 27}\n",
      "['000', '100', '010', '110', '001', '101', '011', '111']\n",
      "[-0.78, 5.24, -2.26, -2.24, -2.26, -2.24, 5.26, -0.72]\n"
     ]
    }
   ],
   "source": [
    "#Checking of raw data from result\n",
    "print(counts_qc)\n",
    "print(States)\n",
    "print(Energies)"
   ]
  },
  {
   "cell_type": "code",
   "execution_count": 28,
   "id": "57422a07",
   "metadata": {},
   "outputs": [
    {
     "name": "stdout",
     "output_type": "stream",
     "text": [
      "State | 110 > Probability:  57.4 %  Energy:  -2.24\n",
      "State | 011 > Probability:  23.4 %  Energy:  5.26\n",
      "State | 010 > Probability:  6.8 %  Energy:  -2.26\n",
      "State | 100 > Probability:  4.3 %  Energy:  5.24\n",
      "State | 001 > Probability:  3.4 %  Energy:  -2.26\n",
      "State | 111 > Probability:  2.7 %  Energy:  -0.72\n",
      "State | 000 > Probability:  1.3 %  Energy:  -0.78\n",
      "State | 101 > Probability:  0.7 %  Energy:  -2.24\n"
     ]
    }
   ],
   "source": [
    "#Better visualization of given data \n",
    "Top_States(Energies,counts_qc,shots,8)"
   ]
  }
 ],
 "metadata": {
  "kernelspec": {
   "display_name": "Python 3",
   "language": "python",
   "name": "python3"
  },
  "language_info": {
   "codemirror_mode": {
    "name": "ipython",
    "version": 3
   },
   "file_extension": ".py",
   "mimetype": "text/x-python",
   "name": "python",
   "nbconvert_exporter": "python",
   "pygments_lexer": "ipython3",
   "version": "3.8.8"
  }
 },
 "nbformat": 4,
 "nbformat_minor": 5
}
